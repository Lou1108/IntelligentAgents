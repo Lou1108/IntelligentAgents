{
 "cells": [
  {
   "cell_type": "code",
   "execution_count": 4,
   "id": "d2a993d6",
   "metadata": {},
   "outputs": [],
   "source": [
    "import sys\n",
    "!{sys.executable} -m pip install -qU langchain-huggingface"
   ]
  },
  {
   "cell_type": "code",
   "execution_count": 5,
   "id": "be88a68e",
   "metadata": {},
   "outputs": [
    {
     "name": "stderr",
     "output_type": "stream",
     "text": [
      "c:\\Users\\Owen\\Documents\\ia\\part2\\local-langchain-academy-main\\local-langchain-academy-main\\.venv\\Lib\\site-packages\\tqdm\\auto.py:21: TqdmWarning: IProgress not found. Please update jupyter and ipywidgets. See https://ipywidgets.readthedocs.io/en/stable/user_install.html\n",
      "  from .autonotebook import tqdm as notebook_tqdm\n",
      "c:\\Users\\Owen\\Documents\\ia\\part2\\local-langchain-academy-main\\local-langchain-academy-main\\.venv\\Lib\\site-packages\\huggingface_hub\\file_download.py:143: UserWarning: `huggingface_hub` cache-system uses symlinks by default to efficiently store duplicated files but your machine does not support them in C:\\Users\\Owen\\.cache\\huggingface\\hub\\models--sentence-transformers--all-mpnet-base-v2. Caching files will still work but in a degraded version that might require more space on your disk. This warning can be disabled by setting the `HF_HUB_DISABLE_SYMLINKS_WARNING` environment variable. For more details, see https://huggingface.co/docs/huggingface_hub/how-to-cache#limitations.\n",
      "To support symlinks on Windows, you either need to activate Developer Mode or to run Python as an administrator. In order to activate developer mode, see this article: https://docs.microsoft.com/en-us/windows/apps/get-started/enable-your-device-for-development\n",
      "  warnings.warn(message)\n",
      "Xet Storage is enabled for this repo, but the 'hf_xet' package is not installed. Falling back to regular HTTP download. For better performance, install the package with: `pip install huggingface_hub[hf_xet]` or `pip install hf_xet`\n"
     ]
    }
   ],
   "source": [
    "from langchain_huggingface import HuggingFaceEmbeddings\n",
    "\n",
    "embeddings = HuggingFaceEmbeddings(model_name=\"sentence-transformers/all-mpnet-base-v2\")"
   ]
  },
  {
   "cell_type": "code",
   "execution_count": 6,
   "id": "de69333e",
   "metadata": {},
   "outputs": [],
   "source": [
    "from langchain_core.vectorstores import InMemoryVectorStore\n",
    "\n",
    "vector_store = InMemoryVectorStore(embeddings)"
   ]
  },
  {
   "cell_type": "code",
   "execution_count": 10,
   "id": "3f2e5d53",
   "metadata": {},
   "outputs": [
    {
     "name": "stdout",
     "output_type": "stream",
     "text": [
      "Extracting class bundles...\n",
      "Extracted bundle for class: N6f6fb4b211644c129408e8853bb33453\n",
      "Extracted bundle for class: Ndaf342086d014b23af60716bfca10070\n",
      "Extracted bundle for class: http://www.semanticweb.org/izabo/ontologies/2025/8/Ontology_Assignment#BakingIngredients\n",
      "Extracted bundle for class: http://www.semanticweb.org/izabo/ontologies/2025/8/Ontology_Assignment#Ingredients\n",
      "Extracted bundle for class: http://www.semanticweb.org/izabo/ontologies/2025/8/Ontology_Assignment#PizzaBianca\n",
      "Extracted bundle for class: http://www.semanticweb.org/izabo/ontologies/2025/8/untitled-ontology-8#Adoption\n",
      "Extracted bundle for class: http://www.semanticweb.org/izabo/ontologies/2025/8/untitled-ontology-8#Adult\n",
      "Extracted bundle for class: N4a8376544dcb434eb154f34db4264b43\n",
      "Extracted bundle for class: http://www.semanticweb.org/izabo/ontologies/2025/8/untitled-ontology-8#AirborneAllergies\n",
      "Extracted bundle for class: http://www.semanticweb.org/izabo/ontologies/2025/8/untitled-ontology-8#Allergies\n",
      "Extracted bundle for class: http://www.semanticweb.org/izabo/ontologies/2025/8/untitled-ontology-8#AnimalAllergies\n",
      "Extracted bundle for class: http://www.semanticweb.org/izabo/ontologies/2025/8/untitled-ontology-8#AnimalBased\n",
      "Extracted bundle for class: http://www.semanticweb.org/izabo/ontologies/2025/8/untitled-ontology-8#AnimalEvent\n",
      "Extracted bundle for class: http://www.semanticweb.org/izabo/ontologies/2025/8/untitled-ontology-8#AnimalHairAllergies\n",
      "Extracted bundle for class: http://www.semanticweb.org/izabo/ontologies/2025/8/untitled-ontology-8#Animals\n",
      "Extracted bundle for class: http://www.semanticweb.org/izabo/ontologies/2025/8/untitled-ontology-8#Artwork\n",
      "Extracted bundle for class: http://www.semanticweb.org/izabo/ontologies/2025/8/untitled-ontology-8#Bakery\n",
      "Extracted bundle for class: http://www.semanticweb.org/izabo/ontologies/2025/8/untitled-ontology-8#Birds\n",
      "Extracted bundle for class: http://www.semanticweb.org/izabo/ontologies/2025/8/untitled-ontology-8#Birth\n",
      "Extracted bundle for class: http://www.semanticweb.org/izabo/ontologies/2025/8/untitled-ontology-8#Cancer\n",
      "Extracted bundle for class: http://www.semanticweb.org/izabo/ontologies/2025/8/untitled-ontology-8#CharacterTrait\n",
      "Extracted bundle for class: http://www.semanticweb.org/izabo/ontologies/2025/8/untitled-ontology-8#Checkup\n",
      "Extracted bundle for class: http://www.semanticweb.org/izabo/ontologies/2025/8/untitled-ontology-8#Child\n",
      "Extracted bundle for class: N26c56c7ac1b04f9f95fa4d7e1703b0de\n",
      "Extracted bundle for class: http://www.semanticweb.org/izabo/ontologies/2025/8/untitled-ontology-8#City\n",
      "Extracted bundle for class: http://www.semanticweb.org/izabo/ontologies/2025/8/untitled-ontology-8#Coal\n",
      "Extracted bundle for class: http://www.semanticweb.org/izabo/ontologies/2025/8/untitled-ontology-8#ConstructionTool\n",
      "Extracted bundle for class: http://www.semanticweb.org/izabo/ontologies/2025/8/untitled-ontology-8#Country\n",
      "Extracted bundle for class: http://www.semanticweb.org/izabo/ontologies/2025/8/untitled-ontology-8#CreativeWorker\n",
      "Extracted bundle for class: http://www.semanticweb.org/izabo/ontologies/2025/8/untitled-ontology-8#Death\n",
      "Extracted bundle for class: http://www.semanticweb.org/izabo/ontologies/2025/8/untitled-ontology-8#Disease\n",
      "Extracted bundle for class: http://www.semanticweb.org/izabo/ontologies/2025/8/untitled-ontology-8#Dishes\n",
      "Extracted bundle for class: http://www.semanticweb.org/izabo/ontologies/2025/8/untitled-ontology-8#Disorder\n",
      "Extracted bundle for class: http://www.semanticweb.org/izabo/ontologies/2025/8/untitled-ontology-8#Documents\n",
      "Extracted bundle for class: http://www.semanticweb.org/izabo/ontologies/2025/8/untitled-ontology-8#DrivableCity\n",
      "Extracted bundle for class: N0ca54d4e95be43dda437925fad814920\n",
      "Extracted bundle for class: http://www.semanticweb.org/izabo/ontologies/2025/8/untitled-ontology-8#EducationLevel\n",
      "Extracted bundle for class: http://www.semanticweb.org/izabo/ontologies/2025/8/untitled-ontology-8#EducationalEvent\n",
      "Extracted bundle for class: http://www.semanticweb.org/izabo/ontologies/2025/8/untitled-ontology-8#Elder\n",
      "Extracted bundle for class: Ncb11e101576c43deb1828b3816a9243e\n",
      "Extracted bundle for class: http://www.semanticweb.org/izabo/ontologies/2025/8/untitled-ontology-8#Electricity\n",
      "Extracted bundle for class: http://www.semanticweb.org/izabo/ontologies/2025/8/untitled-ontology-8#EnergyResource\n",
      "Extracted bundle for class: http://www.semanticweb.org/izabo/ontologies/2025/8/untitled-ontology-8#Enrollment\n",
      "Extracted bundle for class: http://www.semanticweb.org/izabo/ontologies/2025/8/untitled-ontology-8#Event\n",
      "Extracted bundle for class: http://www.semanticweb.org/izabo/ontologies/2025/8/untitled-ontology-8#Exam\n",
      "Extracted bundle for class: http://www.semanticweb.org/izabo/ontologies/2025/8/untitled-ontology-8#Farm\n",
      "Extracted bundle for class: http://www.semanticweb.org/izabo/ontologies/2025/8/untitled-ontology-8#Farmland\n",
      "Extracted bundle for class: http://www.semanticweb.org/izabo/ontologies/2025/8/untitled-ontology-8#Fish\n",
      "Extracted bundle for class: http://www.semanticweb.org/izabo/ontologies/2025/8/untitled-ontology-8#FishFood\n",
      "Extracted bundle for class: http://www.semanticweb.org/izabo/ontologies/2025/8/untitled-ontology-8#FlatTerrain\n",
      "Extracted bundle for class: http://www.semanticweb.org/izabo/ontologies/2025/8/untitled-ontology-8#Flour\n",
      "Extracted bundle for class: http://www.semanticweb.org/izabo/ontologies/2025/8/untitled-ontology-8#Food\n",
      "Extracted bundle for class: http://www.semanticweb.org/izabo/ontologies/2025/8/untitled-ontology-8#FoodAllergies\n",
      "Extracted bundle for class: http://www.semanticweb.org/izabo/ontologies/2025/8/untitled-ontology-8#FoodType\n",
      "Extracted bundle for class: http://www.semanticweb.org/izabo/ontologies/2025/8/untitled-ontology-8#Forest\n",
      "Extracted bundle for class: http://www.semanticweb.org/izabo/ontologies/2025/8/untitled-ontology-8#Fruits\n",
      "Extracted bundle for class: http://www.semanticweb.org/izabo/ontologies/2025/8/untitled-ontology-8#Gas\n",
      "Extracted bundle for class: http://www.semanticweb.org/izabo/ontologies/2025/8/untitled-ontology-8#GastronomyWorker\n",
      "Extracted bundle for class: http://www.semanticweb.org/izabo/ontologies/2025/8/untitled-ontology-8#Gluten\n",
      "Extracted bundle for class: http://www.semanticweb.org/izabo/ontologies/2025/8/untitled-ontology-8#GlutenFood\n",
      "Extracted bundle for class: http://www.semanticweb.org/izabo/ontologies/2025/8/untitled-ontology-8#Graduation\n",
      "Extracted bundle for class: http://www.semanticweb.org/izabo/ontologies/2025/8/untitled-ontology-8#Health\n",
      "Extracted bundle for class: http://www.semanticweb.org/izabo/ontologies/2025/8/untitled-ontology-8#HealthCondition\n",
      "Extracted bundle for class: http://www.semanticweb.org/izabo/ontologies/2025/8/untitled-ontology-8#HealthEvent\n",
      "Extracted bundle for class: http://www.semanticweb.org/izabo/ontologies/2025/8/untitled-ontology-8#HealthWorker\n",
      "Extracted bundle for class: http://www.semanticweb.org/izabo/ontologies/2025/8/untitled-ontology-8#Hospital\n",
      "Extracted bundle for class: http://www.semanticweb.org/izabo/ontologies/2025/8/untitled-ontology-8#Illness\n",
      "Extracted bundle for class: http://www.semanticweb.org/izabo/ontologies/2025/8/untitled-ontology-8#Inhalation\n",
      "Extracted bundle for class: http://www.semanticweb.org/izabo/ontologies/2025/8/untitled-ontology-8#Injection\n",
      "Extracted bundle for class: http://www.semanticweb.org/izabo/ontologies/2025/8/untitled-ontology-8#InsectAllergy\n",
      "Extracted bundle for class: http://www.semanticweb.org/izabo/ontologies/2025/8/untitled-ontology-8#JobEnd\n",
      "Extracted bundle for class: http://www.semanticweb.org/izabo/ontologies/2025/8/untitled-ontology-8#JobStart\n",
      "Extracted bundle for class: http://www.semanticweb.org/izabo/ontologies/2025/8/untitled-ontology-8#KitchenTool\n",
      "Extracted bundle for class: http://www.semanticweb.org/izabo/ontologies/2025/8/untitled-ontology-8#KnowledgeWorker\n",
      "Extracted bundle for class: http://www.semanticweb.org/izabo/ontologies/2025/8/untitled-ontology-8#Lactose\n",
      "Extracted bundle for class: http://www.semanticweb.org/izabo/ontologies/2025/8/untitled-ontology-8#Landmark\n",
      "Extracted bundle for class: http://www.semanticweb.org/izabo/ontologies/2025/8/untitled-ontology-8#LifeEvent\n",
      "Extracted bundle for class: http://www.semanticweb.org/izabo/ontologies/2025/8/untitled-ontology-8#Macro\n",
      "Extracted bundle for class: http://www.semanticweb.org/izabo/ontologies/2025/8/untitled-ontology-8#Mammals\n",
      "Extracted bundle for class: http://www.semanticweb.org/izabo/ontologies/2025/8/untitled-ontology-8#ManualWorker\n",
      "Extracted bundle for class: http://www.semanticweb.org/izabo/ontologies/2025/8/untitled-ontology-8#Marriage\n",
      "Extracted bundle for class: http://www.semanticweb.org/izabo/ontologies/2025/8/untitled-ontology-8#MaterialResource\n",
      "Extracted bundle for class: http://www.semanticweb.org/izabo/ontologies/2025/8/untitled-ontology-8#MeatFood\n",
      "Extracted bundle for class: http://www.semanticweb.org/izabo/ontologies/2025/8/untitled-ontology-8#MedicalReport\n",
      "Extracted bundle for class: http://www.semanticweb.org/izabo/ontologies/2025/8/untitled-ontology-8#MedicalTool\n",
      "Extracted bundle for class: http://www.semanticweb.org/izabo/ontologies/2025/8/untitled-ontology-8#MedicanAllergies\n",
      "Extracted bundle for class: http://www.semanticweb.org/izabo/ontologies/2025/8/untitled-ontology-8#Medication\n",
      "Extracted bundle for class: http://www.semanticweb.org/izabo/ontologies/2025/8/untitled-ontology-8#Micro\n",
      "Extracted bundle for class: http://www.semanticweb.org/izabo/ontologies/2025/8/untitled-ontology-8#Mineral\n",
      "Extracted bundle for class: http://www.semanticweb.org/izabo/ontologies/2025/8/untitled-ontology-8#Minerals\n",
      "Extracted bundle for class: http://www.semanticweb.org/izabo/ontologies/2025/8/untitled-ontology-8#MountainousTerrain\n",
      "Extracted bundle for class: http://www.semanticweb.org/izabo/ontologies/2025/8/untitled-ontology-8#NaturalResource\n",
      "Extracted bundle for class: http://www.semanticweb.org/izabo/ontologies/2025/8/untitled-ontology-8#NotAnimalBased\n",
      "Extracted bundle for class: http://www.semanticweb.org/izabo/ontologies/2025/8/untitled-ontology-8#NutAllergies\n",
      "Extracted bundle for class: http://www.semanticweb.org/izabo/ontologies/2025/8/untitled-ontology-8#Nutrient\n",
      "Extracted bundle for class: http://www.semanticweb.org/izabo/ontologies/2025/8/untitled-ontology-8#Nuts\n",
      "Extracted bundle for class: http://www.semanticweb.org/izabo/ontologies/2025/8/untitled-ontology-8#Occupation\n",
      "Extracted bundle for class: http://www.semanticweb.org/izabo/ontologies/2025/8/untitled-ontology-8#Office\n",
      "Extracted bundle for class: http://www.semanticweb.org/izabo/ontologies/2025/8/untitled-ontology-8#OfficeTool\n",
      "Extracted bundle for class: http://www.semanticweb.org/izabo/ontologies/2025/8/untitled-ontology-8#Olives\n",
      "Extracted bundle for class: http://www.semanticweb.org/izabo/ontologies/2025/8/untitled-ontology-8#OnSkin\n",
      "Extracted bundle for class: http://www.semanticweb.org/izabo/ontologies/2025/8/untitled-ontology-8#Pain\n",
      "Extracted bundle for class: http://www.semanticweb.org/izabo/ontologies/2025/8/untitled-ontology-8#Person\n",
      "Extracted bundle for class: http://www.semanticweb.org/izabo/ontologies/2025/8/untitled-ontology-8#Pills\n",
      "Extracted bundle for class: http://www.semanticweb.org/izabo/ontologies/2025/8/untitled-ontology-8#PizzaMargherita\n",
      "Extracted bundle for class: http://www.semanticweb.org/izabo/ontologies/2025/8/untitled-ontology-8#PizzaPolo\n",
      "Extracted bundle for class: http://www.semanticweb.org/izabo/ontologies/2025/8/untitled-ontology-8#Place\n",
      "Extracted bundle for class: http://www.semanticweb.org/izabo/ontologies/2025/8/untitled-ontology-8#Product\n",
      "Extracted bundle for class: http://www.semanticweb.org/izabo/ontologies/2025/8/untitled-ontology-8#Promotion\n",
      "Extracted bundle for class: http://www.semanticweb.org/izabo/ontologies/2025/8/untitled-ontology-8#ProteinDeficiency\n",
      "Extracted bundle for class: http://www.semanticweb.org/izabo/ontologies/2025/8/untitled-ontology-8#Reptiles\n",
      "Extracted bundle for class: http://www.semanticweb.org/izabo/ontologies/2025/8/untitled-ontology-8#Resource\n",
      "Extracted bundle for class: http://www.semanticweb.org/izabo/ontologies/2025/8/untitled-ontology-8#Restaurant\n",
      "Extracted bundle for class: http://www.semanticweb.org/izabo/ontologies/2025/8/untitled-ontology-8#ScientificPublication\n",
      "Extracted bundle for class: http://www.semanticweb.org/izabo/ontologies/2025/8/untitled-ontology-8#Sea\n",
      "Extracted bundle for class: http://www.semanticweb.org/izabo/ontologies/2025/8/untitled-ontology-8#ServiceWorker\n",
      "Extracted bundle for class: http://www.semanticweb.org/izabo/ontologies/2025/8/untitled-ontology-8#SkinAllergies\n",
      "Extracted bundle for class: http://www.semanticweb.org/izabo/ontologies/2025/8/untitled-ontology-8#SkinSymptoms\n",
      "Extracted bundle for class: http://www.semanticweb.org/izabo/ontologies/2025/8/untitled-ontology-8#SolarEnergy\n",
      "Extracted bundle for class: http://www.semanticweb.org/izabo/ontologies/2025/8/untitled-ontology-8#StomacheSymptoms\n",
      "Extracted bundle for class: http://www.semanticweb.org/izabo/ontologies/2025/8/untitled-ontology-8#Studio\n",
      "Extracted bundle for class: http://www.semanticweb.org/izabo/ontologies/2025/8/untitled-ontology-8#Sun\n",
      "Extracted bundle for class: http://www.semanticweb.org/izabo/ontologies/2025/8/untitled-ontology-8#Surgery\n",
      "Extracted bundle for class: http://www.semanticweb.org/izabo/ontologies/2025/8/untitled-ontology-8#Symptoms\n",
      "Extracted bundle for class: http://www.semanticweb.org/izabo/ontologies/2025/8/untitled-ontology-8#Teacher\n",
      "Extracted bundle for class: http://www.semanticweb.org/izabo/ontologies/2025/8/untitled-ontology-8#TechnicalWorker\n",
      "Extracted bundle for class: http://www.semanticweb.org/izabo/ontologies/2025/8/untitled-ontology-8#Terrain\n",
      "Extracted bundle for class: http://www.semanticweb.org/izabo/ontologies/2025/8/untitled-ontology-8#Tofu\n",
      "Extracted bundle for class: http://www.semanticweb.org/izabo/ontologies/2025/8/untitled-ontology-8#Tool\n",
      "Extracted bundle for class: http://www.semanticweb.org/izabo/ontologies/2025/8/untitled-ontology-8#Training\n",
      "Extracted bundle for class: http://www.semanticweb.org/izabo/ontologies/2025/8/untitled-ontology-8#University\n",
      "Extracted bundle for class: http://www.semanticweb.org/izabo/ontologies/2025/8/untitled-ontology-8#Vegetables\n",
      "Extracted bundle for class: http://www.semanticweb.org/izabo/ontologies/2025/8/untitled-ontology-8#Vegetarian\n",
      "Extracted bundle for class: http://www.semanticweb.org/izabo/ontologies/2025/8/untitled-ontology-8#VeterinaryVisit\n",
      "Extracted bundle for class: http://www.semanticweb.org/izabo/ontologies/2025/8/untitled-ontology-8#Vitamin\n",
      "Extracted bundle for class: http://www.semanticweb.org/izabo/ontologies/2025/8/untitled-ontology-8#VitaminDeficiency\n",
      "Extracted bundle for class: http://www.semanticweb.org/izabo/ontologies/2025/8/untitled-ontology-8#WalkableCity\n",
      "Extracted bundle for class: N06af6d1112d4475eb44ae0e17e095cc2\n",
      "Extracted bundle for class: http://www.semanticweb.org/izabo/ontologies/2025/8/untitled-ontology-8#Water\n",
      "Extracted bundle for class: http://www.semanticweb.org/izabo/ontologies/2025/8/untitled-ontology-8#Wheat\n",
      "Extracted bundle for class: http://www.semanticweb.org/izabo/ontologies/2025/8/untitled-ontology-8#WithMeat\n",
      "Extracted bundle for class: http://www.semanticweb.org/izabo/ontologies/2025/8/untitled-ontology-8#Wood\n",
      "Extracted bundle for class: http://www.semanticweb.org/izabo/ontologies/2025/8/untitled-ontology-8#WorkEvent\n",
      "Extracted bundle for class: http://www.semanticweb.org/izabo/ontologies/2025/8/untitled-ontology-8#Workplace\n",
      "Total class bundles: 144\n"
     ]
    }
   ],
   "source": [
    "from rdflib import Graph, RDF, OWL, BNode\n",
    "from typing import Set\n",
    "g = Graph()\n",
    "g.parse(\"./Ontology_Assignment.rdf\")\n",
    "\n",
    "def extract_class_bundle(g: Graph, class_uri) -> Graph:\n",
    "    \"\"\"\n",
    "    Recursively collect all triples that describe or reference a given OWL class.\n",
    "    Includes nested blank nodes (Restrictions, unionOf, etc.).\n",
    "    \"\"\"\n",
    "    subg = Graph()\n",
    "    visited: Set = set()\n",
    "\n",
    "    def recurse(node):\n",
    "        if node in visited:\n",
    "            return\n",
    "        visited.add(node)\n",
    "\n",
    "        # Triples where node is the subject\n",
    "        for s, p, o in g.triples((node, None, None)):\n",
    "            subg.add((s, p, o))\n",
    "            if isinstance(o, BNode):\n",
    "                recurse(o)\n",
    "\n",
    "        # Triples where node is the object\n",
    "        for s, p, o in g.triples((None, None, node)):\n",
    "            subg.add((s, p, o))\n",
    "            if isinstance(s, BNode):\n",
    "                recurse(s)\n",
    "\n",
    "    recurse(class_uri)\n",
    "    return subg\n",
    "\n",
    "\n",
    "# --- Create bundles for each class ------------------------------------------\n",
    "print(\"Extracting class bundles...\")\n",
    "\n",
    "class_bundles = []\n",
    "for c in g.subjects(RDF.type, OWL.Class):\n",
    "    subgraph = extract_class_bundle(g, c)\n",
    "    rdf_text = subgraph.serialize(format=\"turtle\")  # or \"xml\" if you prefer\n",
    "    class_bundles.append(rdf_text)\n",
    "    print(f\"Extracted bundle for class: {c}\")\n",
    "\n",
    "print(f\"Total class bundles: {len(class_bundles)}\")\n",
    "\n",
    "ontology_blocks = class_bundles"
   ]
  },
  {
   "cell_type": "code",
   "execution_count": 16,
   "id": "db6a37fb",
   "metadata": {},
   "outputs": [],
   "source": [
    "from langchain_core.documents import Document\n",
    "\n",
    "# Convert ontology blocks (strings) into Documents\n",
    "docs = [Document(page_content=text) for text in ontology_blocks]\n",
    "\n",
    "# Add to vector store\n",
    "document_ids = vector_store.add_documents(docs)"
   ]
  },
  {
   "cell_type": "code",
   "execution_count": 18,
   "id": "18fb03b1",
   "metadata": {},
   "outputs": [],
   "source": [
    "# --- Local LLM for generation (Ollama)\n",
    "from langchain_ollama import ChatOllama\n",
    "\n",
    "# Initialize your local LLM (change model name if needed)\n",
    "llm = ChatOllama(\n",
    "    model=\"phi3:mini\",\n",
    ")"
   ]
  },
  {
   "cell_type": "code",
   "execution_count": 32,
   "id": "82ba3ace",
   "metadata": {},
   "outputs": [],
   "source": [
    "from langchain import hub\n",
    "\n",
    "prompt = hub.pull(\"rlm/rag-prompt\")"
   ]
  },
  {
   "cell_type": "code",
   "execution_count": 36,
   "id": "ff3de60e",
   "metadata": {},
   "outputs": [],
   "source": [
    "question = \"Is Alex allowed to be married at 15?\"\n",
    "k = 3\n",
    "retrieved_docs = vector_store.similarity_search(question, k=k)\n",
    "docs_content = \"\\n\\n\".join(doc.page_content for doc in retrieved_docs)\n",
    "rendered_prompt = prompt.invoke({\"question\": question, \"context\": docs_content})\n",
    "answer = llm.invoke(rendered_prompt)"
   ]
  },
  {
   "cell_type": "code",
   "execution_count": 37,
   "id": "0a2209cc",
   "metadata": {},
   "outputs": [
    {
     "data": {
      "text/plain": [
       "AIMessage(content=\"No, Alex is not allowed to be married at the age of 15 as per this ontology because it defines an 'Adult' class with individuals being considered adults who are over 18 years old. The term marriage here seems associated with the relationship between two Adult entities only; hence, one cannot marry before reaching adulthood according to these definitions.\", additional_kwargs={}, response_metadata={'model': 'phi3:mini', 'created_at': '2025-10-16T08:15:56.470665Z', 'done': True, 'done_reason': 'stop', 'total_duration': 38185351600, 'load_duration': 28444200, 'prompt_eval_count': 1778, 'prompt_eval_duration': 3757219800, 'eval_count': 78, 'eval_duration': 6581822300, 'model_name': 'phi3:mini'}, id='run--1a839036-079d-4f0b-8e0f-c4da2b99c68a-0', usage_metadata={'input_tokens': 1778, 'output_tokens': 78, 'total_tokens': 1856})"
      ]
     },
     "execution_count": 37,
     "metadata": {},
     "output_type": "execute_result"
    }
   ],
   "source": [
    "answer"
   ]
  },
  {
   "cell_type": "code",
   "execution_count": 38,
   "id": "2a0960aa",
   "metadata": {},
   "outputs": [
    {
     "data": {
      "text/plain": [
       "'@prefix owl: <http://www.w3.org/2002/07/owl#> .\\n@prefix rdf: <http://www.w3.org/1999/02/22-rdf-syntax-ns#> .\\n@prefix rdfs: <http://www.w3.org/2000/01/rdf-schema#> .\\n\\n<http://www.semanticweb.org/izabo/ontologies/2025/8/untitled-ontology-8#Birth> a owl:Class ;\\n    rdfs:subClassOf <http://www.semanticweb.org/izabo/ontologies/2025/8/untitled-ontology-8#LifeEvent> .\\n\\n[] a owl:AllDisjointClasses ;\\n    owl:members ( <http://www.semanticweb.org/izabo/ontologies/2025/8/untitled-ontology-8#Birth> <http://www.semanticweb.org/izabo/ontologies/2025/8/untitled-ontology-8#Death> <http://www.semanticweb.org/izabo/ontologies/2025/8/untitled-ontology-8#Marriage> ) .\\n\\n\\n\\n@prefix owl: <http://www.w3.org/2002/07/owl#> .\\n@prefix rdf: <http://www.w3.org/1999/02/22-rdf-syntax-ns#> .\\n@prefix rdfs: <http://www.w3.org/2000/01/rdf-schema#> .\\n\\n<http://www.semanticweb.org/izabo/ontologies/2025/8/untitled-ontology-8#Death> a owl:Class ;\\n    rdfs:subClassOf <http://www.semanticweb.org/izabo/ontologies/2025/8/untitled-ontology-8#LifeEvent> .\\n\\n[] a owl:AllDisjointClasses ;\\n    owl:members ( <http://www.semanticweb.org/izabo/ontologies/2025/8/untitled-ontology-8#Birth> <http://www.semanticweb.org/izabo/ontologies/2025/8/untitled-ontology-8#Death> <http://www.semanticweb.org/izabo/ontologies/2025/8/untitled-ontology-8#Marriage> ) .\\n\\n\\n\\n@prefix owl: <http://www.w3.org/2002/07/owl#> .\\n@prefix rdf: <http://www.w3.org/1999/02/22-rdf-syntax-ns#> .\\n@prefix rdfs: <http://www.w3.org/2000/01/rdf-schema#> .\\n@prefix xsd: <http://www.w3.org/2001/XMLSchema#> .\\n\\n<http://www.semanticweb.org/izabo/ontologies/2025/8/untitled-ontology-8#Amira> a <http://www.semanticweb.org/izabo/ontologies/2025/8/untitled-ontology-8#Adult> .\\n\\n<http://www.semanticweb.org/izabo/ontologies/2025/8/untitled-ontology-8#John> a <http://www.semanticweb.org/izabo/ontologies/2025/8/untitled-ontology-8#Adult> .\\n\\n<http://www.semanticweb.org/izabo/ontologies/2025/8/untitled-ontology-8#Leo> a <http://www.semanticweb.org/izabo/ontologies/2025/8/untitled-ontology-8#Adult> .\\n\\n<http://www.semanticweb.org/izabo/ontologies/2025/8/untitled-ontology-8#hasChild> rdfs:domain <http://www.semanticweb.org/izabo/ontologies/2025/8/untitled-ontology-8#Adult> .\\n\\n<http://www.semanticweb.org/izabo/ontologies/2025/8/untitled-ontology-8#hasParent> rdfs:range <http://www.semanticweb.org/izabo/ontologies/2025/8/untitled-ontology-8#Adult> .\\n\\n<http://www.semanticweb.org/izabo/ontologies/2025/8/untitled-ontology-8#isMarriedTo> rdfs:domain [ a owl:Class ;\\n            owl:unionOf ( <http://www.semanticweb.org/izabo/ontologies/2025/8/untitled-ontology-8#Adult> <http://www.semanticweb.org/izabo/ontologies/2025/8/untitled-ontology-8#Elder> ) ] ;\\n    rdfs:range [ a owl:Class ;\\n            owl:unionOf ( <http://www.semanticweb.org/izabo/ontologies/2025/8/untitled-ontology-8#Adult> <http://www.semanticweb.org/izabo/ontologies/2025/8/untitled-ontology-8#Elder> ) ] .\\n\\n<http://www.semanticweb.org/izabo/ontologies/2025/8/untitled-ontology-8#Adult> a owl:Class ;\\n    rdfs:subClassOf [ a owl:Restriction ;\\n            owl:onProperty <http://www.semanticweb.org/izabo/ontologies/2025/8/untitled-ontology-8#worksAt> ;\\n            owl:someValuesFrom <http://www.semanticweb.org/izabo/ontologies/2025/8/untitled-ontology-8#Farm> ] ;\\n    owl:equivalentClass [ a owl:Class ;\\n            owl:intersectionOf ( <http://www.semanticweb.org/izabo/ontologies/2025/8/untitled-ontology-8#Person> [ a owl:Restriction ;\\n                        owl:onProperty <http://www.semanticweb.org/izabo/ontologies/2025/8/untitled-ontology-8#hasAge> ;\\n                        owl:someValuesFrom [ a rdfs:Datatype ;\\n                                owl:onDatatype xsd:integer ;\\n                                owl:withRestrictions ( [ xsd:minInclusive 18 ] ) ] ] ) ] .\\n\\n'"
      ]
     },
     "execution_count": 38,
     "metadata": {},
     "output_type": "execute_result"
    }
   ],
   "source": [
    "docs_content"
   ]
  }
 ],
 "metadata": {
  "kernelspec": {
   "display_name": ".venv",
   "language": "python",
   "name": "python3"
  },
  "language_info": {
   "codemirror_mode": {
    "name": "ipython",
    "version": 3
   },
   "file_extension": ".py",
   "mimetype": "text/x-python",
   "name": "python",
   "nbconvert_exporter": "python",
   "pygments_lexer": "ipython3",
   "version": "3.11.5"
  }
 },
 "nbformat": 4,
 "nbformat_minor": 5
}
