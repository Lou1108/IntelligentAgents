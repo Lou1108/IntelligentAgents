{
 "cells": [
  {
   "cell_type": "code",
   "execution_count": 4,
   "id": "d2a993d6",
   "metadata": {},
   "outputs": [],
   "source": [
    "import sys\n",
    "!{sys.executable} -m pip install -qU langchain-huggingface"
   ]
  },
  {
   "cell_type": "code",
   "execution_count": 5,
   "id": "be88a68e",
   "metadata": {},
   "outputs": [],
   "source": [
    "from langchain_huggingface import HuggingFaceEmbeddings\n",
    "\n",
    "embeddings = HuggingFaceEmbeddings(model_name=\"sentence-transformers/all-mpnet-base-v2\")"
   ]
  },
  {
   "cell_type": "code",
   "execution_count": 6,
   "id": "de69333e",
   "metadata": {},
   "outputs": [],
   "source": [
    "from langchain_core.vectorstores import InMemoryVectorStore\n",
    "\n",
    "vector_store = InMemoryVectorStore(embeddings)"
   ]
  },
  {
   "cell_type": "code",
   "execution_count": 7,
   "id": "3f2e5d53",
   "metadata": {},
   "outputs": [
    {
     "name": "stdout",
     "output_type": "stream",
     "text": [
      "Extracting class bundles...\n",
      "Extracted bundle for class: N731404a0dc404dcb9e975a982fed6f7f\n",
      "Extracted bundle for class: Na338259eacec4f7db2caf962a50491e6\n",
      "Extracted bundle for class: http://www.semanticweb.org/izabo/ontologies/2025/8/Ontology_Assignment#BakingIngredients\n",
      "Extracted bundle for class: http://www.semanticweb.org/izabo/ontologies/2025/8/Ontology_Assignment#Ingredients\n",
      "Extracted bundle for class: http://www.semanticweb.org/izabo/ontologies/2025/8/Ontology_Assignment#PizzaBianca\n",
      "Extracted bundle for class: http://www.semanticweb.org/izabo/ontologies/2025/8/untitled-ontology-8#Adoption\n",
      "Extracted bundle for class: http://www.semanticweb.org/izabo/ontologies/2025/8/untitled-ontology-8#Adult\n",
      "Extracted bundle for class: Nf56625720a014ec887349572df1f5b6e\n",
      "Extracted bundle for class: http://www.semanticweb.org/izabo/ontologies/2025/8/untitled-ontology-8#AirborneAllergies\n",
      "Extracted bundle for class: http://www.semanticweb.org/izabo/ontologies/2025/8/untitled-ontology-8#Allergies\n",
      "Extracted bundle for class: http://www.semanticweb.org/izabo/ontologies/2025/8/untitled-ontology-8#AnimalAllergies\n",
      "Extracted bundle for class: http://www.semanticweb.org/izabo/ontologies/2025/8/untitled-ontology-8#AnimalBased\n",
      "Extracted bundle for class: http://www.semanticweb.org/izabo/ontologies/2025/8/untitled-ontology-8#AnimalEvent\n",
      "Extracted bundle for class: http://www.semanticweb.org/izabo/ontologies/2025/8/untitled-ontology-8#AnimalHairAllergies\n",
      "Extracted bundle for class: http://www.semanticweb.org/izabo/ontologies/2025/8/untitled-ontology-8#Animals\n",
      "Extracted bundle for class: http://www.semanticweb.org/izabo/ontologies/2025/8/untitled-ontology-8#Artwork\n",
      "Extracted bundle for class: http://www.semanticweb.org/izabo/ontologies/2025/8/untitled-ontology-8#Bakery\n",
      "Extracted bundle for class: http://www.semanticweb.org/izabo/ontologies/2025/8/untitled-ontology-8#Birds\n",
      "Extracted bundle for class: http://www.semanticweb.org/izabo/ontologies/2025/8/untitled-ontology-8#Birth\n",
      "Extracted bundle for class: http://www.semanticweb.org/izabo/ontologies/2025/8/untitled-ontology-8#Cancer\n",
      "Extracted bundle for class: http://www.semanticweb.org/izabo/ontologies/2025/8/untitled-ontology-8#CharacterTrait\n",
      "Extracted bundle for class: http://www.semanticweb.org/izabo/ontologies/2025/8/untitled-ontology-8#Checkup\n",
      "Extracted bundle for class: http://www.semanticweb.org/izabo/ontologies/2025/8/untitled-ontology-8#Child\n",
      "Extracted bundle for class: N85e069e8e6c84e7495533ece74e76543\n",
      "Extracted bundle for class: http://www.semanticweb.org/izabo/ontologies/2025/8/untitled-ontology-8#City\n",
      "Extracted bundle for class: http://www.semanticweb.org/izabo/ontologies/2025/8/untitled-ontology-8#Coal\n",
      "Extracted bundle for class: http://www.semanticweb.org/izabo/ontologies/2025/8/untitled-ontology-8#ConstructionTool\n",
      "Extracted bundle for class: http://www.semanticweb.org/izabo/ontologies/2025/8/untitled-ontology-8#Country\n",
      "Extracted bundle for class: http://www.semanticweb.org/izabo/ontologies/2025/8/untitled-ontology-8#CreativeWorker\n",
      "Extracted bundle for class: http://www.semanticweb.org/izabo/ontologies/2025/8/untitled-ontology-8#Death\n",
      "Extracted bundle for class: http://www.semanticweb.org/izabo/ontologies/2025/8/untitled-ontology-8#Disease\n",
      "Extracted bundle for class: http://www.semanticweb.org/izabo/ontologies/2025/8/untitled-ontology-8#Dishes\n",
      "Extracted bundle for class: http://www.semanticweb.org/izabo/ontologies/2025/8/untitled-ontology-8#Disorder\n",
      "Extracted bundle for class: http://www.semanticweb.org/izabo/ontologies/2025/8/untitled-ontology-8#Documents\n",
      "Extracted bundle for class: http://www.semanticweb.org/izabo/ontologies/2025/8/untitled-ontology-8#DrivableCity\n",
      "Extracted bundle for class: Nc79fe7b3049e41e1959bca8cf5e1c987\n",
      "Extracted bundle for class: http://www.semanticweb.org/izabo/ontologies/2025/8/untitled-ontology-8#EducationLevel\n",
      "Extracted bundle for class: http://www.semanticweb.org/izabo/ontologies/2025/8/untitled-ontology-8#EducationalEvent\n",
      "Extracted bundle for class: http://www.semanticweb.org/izabo/ontologies/2025/8/untitled-ontology-8#Elder\n",
      "Extracted bundle for class: N7d5e2fa4c2b741b6bcb005bde64b07b0\n",
      "Extracted bundle for class: http://www.semanticweb.org/izabo/ontologies/2025/8/untitled-ontology-8#Electricity\n",
      "Extracted bundle for class: http://www.semanticweb.org/izabo/ontologies/2025/8/untitled-ontology-8#EnergyResource\n",
      "Extracted bundle for class: http://www.semanticweb.org/izabo/ontologies/2025/8/untitled-ontology-8#Enrollment\n",
      "Extracted bundle for class: http://www.semanticweb.org/izabo/ontologies/2025/8/untitled-ontology-8#Event\n",
      "Extracted bundle for class: http://www.semanticweb.org/izabo/ontologies/2025/8/untitled-ontology-8#Exam\n",
      "Extracted bundle for class: http://www.semanticweb.org/izabo/ontologies/2025/8/untitled-ontology-8#Farm\n",
      "Extracted bundle for class: http://www.semanticweb.org/izabo/ontologies/2025/8/untitled-ontology-8#Farmland\n",
      "Extracted bundle for class: http://www.semanticweb.org/izabo/ontologies/2025/8/untitled-ontology-8#Fish\n",
      "Extracted bundle for class: http://www.semanticweb.org/izabo/ontologies/2025/8/untitled-ontology-8#FishFood\n",
      "Extracted bundle for class: http://www.semanticweb.org/izabo/ontologies/2025/8/untitled-ontology-8#FlatTerrain\n",
      "Extracted bundle for class: http://www.semanticweb.org/izabo/ontologies/2025/8/untitled-ontology-8#Flour\n",
      "Extracted bundle for class: http://www.semanticweb.org/izabo/ontologies/2025/8/untitled-ontology-8#Food\n",
      "Extracted bundle for class: http://www.semanticweb.org/izabo/ontologies/2025/8/untitled-ontology-8#FoodAllergies\n",
      "Extracted bundle for class: http://www.semanticweb.org/izabo/ontologies/2025/8/untitled-ontology-8#FoodType\n",
      "Extracted bundle for class: http://www.semanticweb.org/izabo/ontologies/2025/8/untitled-ontology-8#Forest\n",
      "Extracted bundle for class: http://www.semanticweb.org/izabo/ontologies/2025/8/untitled-ontology-8#Fruits\n",
      "Extracted bundle for class: http://www.semanticweb.org/izabo/ontologies/2025/8/untitled-ontology-8#Gas\n",
      "Extracted bundle for class: http://www.semanticweb.org/izabo/ontologies/2025/8/untitled-ontology-8#GastronomyWorker\n",
      "Extracted bundle for class: http://www.semanticweb.org/izabo/ontologies/2025/8/untitled-ontology-8#Gluten\n",
      "Extracted bundle for class: http://www.semanticweb.org/izabo/ontologies/2025/8/untitled-ontology-8#GlutenFood\n",
      "Extracted bundle for class: http://www.semanticweb.org/izabo/ontologies/2025/8/untitled-ontology-8#Graduation\n",
      "Extracted bundle for class: http://www.semanticweb.org/izabo/ontologies/2025/8/untitled-ontology-8#Health\n",
      "Extracted bundle for class: http://www.semanticweb.org/izabo/ontologies/2025/8/untitled-ontology-8#HealthCondition\n",
      "Extracted bundle for class: http://www.semanticweb.org/izabo/ontologies/2025/8/untitled-ontology-8#HealthEvent\n",
      "Extracted bundle for class: http://www.semanticweb.org/izabo/ontologies/2025/8/untitled-ontology-8#HealthWorker\n",
      "Extracted bundle for class: http://www.semanticweb.org/izabo/ontologies/2025/8/untitled-ontology-8#Hospital\n",
      "Extracted bundle for class: http://www.semanticweb.org/izabo/ontologies/2025/8/untitled-ontology-8#Illness\n",
      "Extracted bundle for class: http://www.semanticweb.org/izabo/ontologies/2025/8/untitled-ontology-8#Inhalation\n",
      "Extracted bundle for class: http://www.semanticweb.org/izabo/ontologies/2025/8/untitled-ontology-8#Injection\n",
      "Extracted bundle for class: http://www.semanticweb.org/izabo/ontologies/2025/8/untitled-ontology-8#InsectAllergy\n",
      "Extracted bundle for class: http://www.semanticweb.org/izabo/ontologies/2025/8/untitled-ontology-8#JobEnd\n",
      "Extracted bundle for class: http://www.semanticweb.org/izabo/ontologies/2025/8/untitled-ontology-8#JobStart\n",
      "Extracted bundle for class: http://www.semanticweb.org/izabo/ontologies/2025/8/untitled-ontology-8#KitchenTool\n",
      "Extracted bundle for class: http://www.semanticweb.org/izabo/ontologies/2025/8/untitled-ontology-8#KnowledgeWorker\n",
      "Extracted bundle for class: http://www.semanticweb.org/izabo/ontologies/2025/8/untitled-ontology-8#Lactose\n",
      "Extracted bundle for class: http://www.semanticweb.org/izabo/ontologies/2025/8/untitled-ontology-8#Landmark\n",
      "Extracted bundle for class: http://www.semanticweb.org/izabo/ontologies/2025/8/untitled-ontology-8#LifeEvent\n",
      "Extracted bundle for class: http://www.semanticweb.org/izabo/ontologies/2025/8/untitled-ontology-8#Macro\n",
      "Extracted bundle for class: http://www.semanticweb.org/izabo/ontologies/2025/8/untitled-ontology-8#Mammals\n",
      "Extracted bundle for class: http://www.semanticweb.org/izabo/ontologies/2025/8/untitled-ontology-8#ManualWorker\n",
      "Extracted bundle for class: http://www.semanticweb.org/izabo/ontologies/2025/8/untitled-ontology-8#Marriage\n",
      "Extracted bundle for class: http://www.semanticweb.org/izabo/ontologies/2025/8/untitled-ontology-8#MaterialResource\n",
      "Extracted bundle for class: http://www.semanticweb.org/izabo/ontologies/2025/8/untitled-ontology-8#MeatFood\n",
      "Extracted bundle for class: http://www.semanticweb.org/izabo/ontologies/2025/8/untitled-ontology-8#MedicalReport\n",
      "Extracted bundle for class: http://www.semanticweb.org/izabo/ontologies/2025/8/untitled-ontology-8#MedicalTool\n",
      "Extracted bundle for class: http://www.semanticweb.org/izabo/ontologies/2025/8/untitled-ontology-8#MedicanAllergies\n",
      "Extracted bundle for class: http://www.semanticweb.org/izabo/ontologies/2025/8/untitled-ontology-8#Medication\n",
      "Extracted bundle for class: http://www.semanticweb.org/izabo/ontologies/2025/8/untitled-ontology-8#Micro\n",
      "Extracted bundle for class: http://www.semanticweb.org/izabo/ontologies/2025/8/untitled-ontology-8#Mineral\n",
      "Extracted bundle for class: http://www.semanticweb.org/izabo/ontologies/2025/8/untitled-ontology-8#Minerals\n",
      "Extracted bundle for class: http://www.semanticweb.org/izabo/ontologies/2025/8/untitled-ontology-8#MountainousTerrain\n",
      "Extracted bundle for class: http://www.semanticweb.org/izabo/ontologies/2025/8/untitled-ontology-8#NaturalResource\n",
      "Extracted bundle for class: http://www.semanticweb.org/izabo/ontologies/2025/8/untitled-ontology-8#NotAnimalBased\n",
      "Extracted bundle for class: http://www.semanticweb.org/izabo/ontologies/2025/8/untitled-ontology-8#NutAllergies\n",
      "Extracted bundle for class: http://www.semanticweb.org/izabo/ontologies/2025/8/untitled-ontology-8#Nutrient\n",
      "Extracted bundle for class: http://www.semanticweb.org/izabo/ontologies/2025/8/untitled-ontology-8#Nuts\n",
      "Extracted bundle for class: http://www.semanticweb.org/izabo/ontologies/2025/8/untitled-ontology-8#Occupation\n",
      "Extracted bundle for class: http://www.semanticweb.org/izabo/ontologies/2025/8/untitled-ontology-8#Office\n",
      "Extracted bundle for class: http://www.semanticweb.org/izabo/ontologies/2025/8/untitled-ontology-8#OfficeTool\n",
      "Extracted bundle for class: http://www.semanticweb.org/izabo/ontologies/2025/8/untitled-ontology-8#Olives\n",
      "Extracted bundle for class: http://www.semanticweb.org/izabo/ontologies/2025/8/untitled-ontology-8#OnSkin\n",
      "Extracted bundle for class: http://www.semanticweb.org/izabo/ontologies/2025/8/untitled-ontology-8#Pain\n",
      "Extracted bundle for class: http://www.semanticweb.org/izabo/ontologies/2025/8/untitled-ontology-8#Person\n",
      "Extracted bundle for class: http://www.semanticweb.org/izabo/ontologies/2025/8/untitled-ontology-8#Pills\n",
      "Extracted bundle for class: http://www.semanticweb.org/izabo/ontologies/2025/8/untitled-ontology-8#PizzaMargherita\n",
      "Extracted bundle for class: http://www.semanticweb.org/izabo/ontologies/2025/8/untitled-ontology-8#PizzaPolo\n",
      "Extracted bundle for class: http://www.semanticweb.org/izabo/ontologies/2025/8/untitled-ontology-8#Place\n",
      "Extracted bundle for class: http://www.semanticweb.org/izabo/ontologies/2025/8/untitled-ontology-8#Product\n",
      "Extracted bundle for class: http://www.semanticweb.org/izabo/ontologies/2025/8/untitled-ontology-8#Promotion\n",
      "Extracted bundle for class: http://www.semanticweb.org/izabo/ontologies/2025/8/untitled-ontology-8#ProteinDeficiency\n",
      "Extracted bundle for class: http://www.semanticweb.org/izabo/ontologies/2025/8/untitled-ontology-8#Reptiles\n",
      "Extracted bundle for class: http://www.semanticweb.org/izabo/ontologies/2025/8/untitled-ontology-8#Resource\n",
      "Extracted bundle for class: http://www.semanticweb.org/izabo/ontologies/2025/8/untitled-ontology-8#Restaurant\n",
      "Extracted bundle for class: http://www.semanticweb.org/izabo/ontologies/2025/8/untitled-ontology-8#ScientificPublication\n",
      "Extracted bundle for class: http://www.semanticweb.org/izabo/ontologies/2025/8/untitled-ontology-8#Sea\n",
      "Extracted bundle for class: http://www.semanticweb.org/izabo/ontologies/2025/8/untitled-ontology-8#ServiceWorker\n",
      "Extracted bundle for class: http://www.semanticweb.org/izabo/ontologies/2025/8/untitled-ontology-8#SkinAllergies\n",
      "Extracted bundle for class: http://www.semanticweb.org/izabo/ontologies/2025/8/untitled-ontology-8#SkinSymptoms\n",
      "Extracted bundle for class: http://www.semanticweb.org/izabo/ontologies/2025/8/untitled-ontology-8#SolarEnergy\n",
      "Extracted bundle for class: http://www.semanticweb.org/izabo/ontologies/2025/8/untitled-ontology-8#StomacheSymptoms\n",
      "Extracted bundle for class: http://www.semanticweb.org/izabo/ontologies/2025/8/untitled-ontology-8#Studio\n",
      "Extracted bundle for class: http://www.semanticweb.org/izabo/ontologies/2025/8/untitled-ontology-8#Sun\n",
      "Extracted bundle for class: http://www.semanticweb.org/izabo/ontologies/2025/8/untitled-ontology-8#Surgery\n",
      "Extracted bundle for class: http://www.semanticweb.org/izabo/ontologies/2025/8/untitled-ontology-8#Symptoms\n",
      "Extracted bundle for class: http://www.semanticweb.org/izabo/ontologies/2025/8/untitled-ontology-8#Teacher\n",
      "Extracted bundle for class: http://www.semanticweb.org/izabo/ontologies/2025/8/untitled-ontology-8#TechnicalWorker\n",
      "Extracted bundle for class: http://www.semanticweb.org/izabo/ontologies/2025/8/untitled-ontology-8#Terrain\n",
      "Extracted bundle for class: http://www.semanticweb.org/izabo/ontologies/2025/8/untitled-ontology-8#Tofu\n",
      "Extracted bundle for class: http://www.semanticweb.org/izabo/ontologies/2025/8/untitled-ontology-8#Tool\n",
      "Extracted bundle for class: http://www.semanticweb.org/izabo/ontologies/2025/8/untitled-ontology-8#Training\n",
      "Extracted bundle for class: http://www.semanticweb.org/izabo/ontologies/2025/8/untitled-ontology-8#University\n",
      "Extracted bundle for class: http://www.semanticweb.org/izabo/ontologies/2025/8/untitled-ontology-8#Vegetables\n",
      "Extracted bundle for class: http://www.semanticweb.org/izabo/ontologies/2025/8/untitled-ontology-8#Vegetarian\n",
      "Extracted bundle for class: http://www.semanticweb.org/izabo/ontologies/2025/8/untitled-ontology-8#VeterinaryVisit\n",
      "Extracted bundle for class: http://www.semanticweb.org/izabo/ontologies/2025/8/untitled-ontology-8#Vitamin\n",
      "Extracted bundle for class: http://www.semanticweb.org/izabo/ontologies/2025/8/untitled-ontology-8#VitaminDeficiency\n",
      "Extracted bundle for class: http://www.semanticweb.org/izabo/ontologies/2025/8/untitled-ontology-8#WalkableCity\n",
      "Extracted bundle for class: N5466daeeabe4456b92920a560608d02c\n",
      "Extracted bundle for class: http://www.semanticweb.org/izabo/ontologies/2025/8/untitled-ontology-8#Water\n",
      "Extracted bundle for class: http://www.semanticweb.org/izabo/ontologies/2025/8/untitled-ontology-8#Wheat\n",
      "Extracted bundle for class: http://www.semanticweb.org/izabo/ontologies/2025/8/untitled-ontology-8#WithMeat\n",
      "Extracted bundle for class: http://www.semanticweb.org/izabo/ontologies/2025/8/untitled-ontology-8#Wood\n",
      "Extracted bundle for class: http://www.semanticweb.org/izabo/ontologies/2025/8/untitled-ontology-8#WorkEvent\n",
      "Extracted bundle for class: http://www.semanticweb.org/izabo/ontologies/2025/8/untitled-ontology-8#Workplace\n",
      "Total class bundles: 144\n"
     ]
    }
   ],
   "source": [
    "from rdflib import Graph, RDF, OWL, BNode\n",
    "from typing import Set\n",
    "g = Graph()\n",
    "g.parse(\"./Ontology_Assignment.rdf\")\n",
    "\n",
    "def extract_class_bundle(g: Graph, class_uri) -> Graph:\n",
    "    \"\"\"\n",
    "    Recursively collect all triples that describe or reference a given OWL class.\n",
    "    Includes nested blank nodes (Restrictions, unionOf, etc.).\n",
    "    \"\"\"\n",
    "    subg = Graph()\n",
    "    visited: Set = set()\n",
    "\n",
    "    def recurse(node):\n",
    "        if node in visited:\n",
    "            return\n",
    "        visited.add(node)\n",
    "\n",
    "        # Triples where node is the subject\n",
    "        for s, p, o in g.triples((node, None, None)):\n",
    "            subg.add((s, p, o))\n",
    "            if isinstance(o, BNode):\n",
    "                recurse(o)\n",
    "\n",
    "        # Triples where node is the object\n",
    "        for s, p, o in g.triples((None, None, node)):\n",
    "            subg.add((s, p, o))\n",
    "            if isinstance(s, BNode):\n",
    "                recurse(s)\n",
    "\n",
    "    recurse(class_uri)\n",
    "    return subg\n",
    "\n",
    "\n",
    "# --- Create bundles for each class ------------------------------------------\n",
    "print(\"Extracting class bundles...\")\n",
    "\n",
    "class_bundles = []\n",
    "for c in g.subjects(RDF.type, OWL.Class):\n",
    "    subgraph = extract_class_bundle(g, c)\n",
    "    rdf_text = subgraph.serialize(format=\"turtle\")  # or \"xml\" if you prefer\n",
    "    class_bundles.append(rdf_text)\n",
    "    print(f\"Extracted bundle for class: {c}\")\n",
    "\n",
    "print(f\"Total class bundles: {len(class_bundles)}\")\n",
    "\n",
    "ontology_blocks = class_bundles"
   ]
  },
  {
   "cell_type": "code",
   "execution_count": 8,
   "id": "db6a37fb",
   "metadata": {},
   "outputs": [],
   "source": [
    "from langchain_core.documents import Document\n",
    "\n",
    "# Convert ontology blocks (strings) into Documents\n",
    "docs = [Document(page_content=text) for text in ontology_blocks]\n",
    "\n",
    "# Add to vector store\n",
    "document_ids = vector_store.add_documents(docs)"
   ]
  },
  {
   "cell_type": "code",
   "execution_count": 9,
   "id": "18fb03b1",
   "metadata": {},
   "outputs": [],
   "source": [
    "# --- Local LLM for generation (Ollama)\n",
    "from langchain_ollama import ChatOllama\n",
    "\n",
    "# Initialize your local LLM (change model name if needed)\n",
    "llm = ChatOllama(\n",
    "    model=\"phi3:mini\",\n",
    ")"
   ]
  },
  {
   "cell_type": "code",
   "execution_count": 10,
   "id": "82ba3ace",
   "metadata": {},
   "outputs": [
    {
     "name": "stdout",
     "output_type": "stream",
     "text": [
      "input_variables=['context', 'question'] input_types={} partial_variables={} metadata={'lc_hub_owner': 'rlm', 'lc_hub_repo': 'rag-prompt', 'lc_hub_commit_hash': '50442af133e61576e74536c6556cefe1fac147cad032f4377b60c436e6cdcb6e'} messages=[HumanMessagePromptTemplate(prompt=PromptTemplate(input_variables=['context', 'question'], input_types={}, partial_variables={}, template=\"You are an assistant for question-answering tasks. Use the following pieces of retrieved context to answer the question. If you don't know the answer, just say that you don't know. Use three sentences maximum and keep the answer concise.\\nQuestion: {question} \\nContext: {context} \\nAnswer:\"), additional_kwargs={})]\n"
     ]
    }
   ],
   "source": [
    "from langchain import hub\n",
    "\n",
    "prompt = hub.pull(\"rlm/rag-prompt\")\n",
    "print(prompt)"
   ]
  },
  {
   "cell_type": "code",
   "execution_count": 11,
   "id": "bd2f8f16",
   "metadata": {},
   "outputs": [
    {
     "name": "stdout",
     "output_type": "stream",
     "text": [
      "input_variables=['context', 'question'] input_types={} partial_variables={} template='You will be given an ontology context, and a scenario. Find out based on the ontology context if the scenario is consistent or not with the ontology, you may use reasoning, you can think out loud. The last word should be \"Consistent.\" or \"Inconsistent.\".\\n    For example: \\n    Context ontology: (contains information on pizza containing tomato, tomato containing vitamin C)\\n    Scenario: Lily eats pizza for her vitamin C deficiency.\\n    Answer: Based on the subclasses of Pizza\\'s containing Tomato, and Tomato have vitamin C, eating a pizza for a vitamin C deficiency is consistent. Consistent.\\n\\nContext ontology:\\n{context}\\n\\nScenario:\\n{question}\\n'\n"
     ]
    }
   ],
   "source": [
    "from langchain.prompts import PromptTemplate\n",
    "\n",
    "base_prompt = hub.pull(\"rlm/rag-prompt\")\n",
    "\n",
    "custom_prompt = PromptTemplate(\n",
    "    input_variables=[\"context\", \"question\"],\n",
    "    template=f\"\"\"You will be given an ontology context, and a scenario. Find out based on the ontology context if the scenario is consistent or not with the ontology, you may use reasoning, you can think out loud. The last word should be \"Consistent.\" or \"Inconsistent.\".\n",
    "    For example: \n",
    "    Context ontology: (contains information on pizza containing tomato, tomato containing vitamin C)\n",
    "    Scenario: Lily eats pizza for her vitamin C deficiency.\n",
    "    Answer: Based on the subclasses of Pizza's containing Tomato, and Tomato have vitamin C, eating a pizza for a vitamin C deficiency is consistent. Consistent.\n",
    "\n",
    "Context ontology:\n",
    "{{context}}\n",
    "\n",
    "Scenario:\n",
    "{{question}}\n",
    "\"\"\"\n",
    ")\n",
    "print(custom_prompt)"
   ]
  },
  {
   "cell_type": "code",
   "execution_count": 65,
   "id": "ff3de60e",
   "metadata": {},
   "outputs": [],
   "source": [
    "question = \"Alex is 15, and is married to a girl called Lily.\"\n",
    "k = 5\n",
    "retrieved_docs = vector_store.similarity_search(question, k=k)\n",
    "docs_content = \"\\n\\n\".join(doc.page_content for doc in retrieved_docs)\n",
    "rendered_prompt = custom_prompt.invoke({\"question\": question, \"context\": docs_content})\n",
    "answer = llm.invoke(rendered_prompt)"
   ]
  },
  {
   "cell_type": "code",
   "execution_count": 67,
   "id": "e606456f",
   "metadata": {},
   "outputs": [
    {
     "data": {
      "text/plain": [
       "[Document(id='f83d4c64-d8a9-4cd0-9eb8-4c1c0eef5593', metadata={}, page_content='@prefix owl: <http://www.w3.org/2002/07/owl#> .\\n@prefix rdf: <http://www.w3.org/1999/02/22-rdf-syntax-ns#> .\\n@prefix rdfs: <http://www.w3.org/2000/01/rdf-schema#> .\\n\\n<http://www.semanticweb.org/izabo/ontologies/2025/8/untitled-ontology-8#Birth> a owl:Class ;\\n    rdfs:subClassOf <http://www.semanticweb.org/izabo/ontologies/2025/8/untitled-ontology-8#LifeEvent> .\\n\\n[] a owl:AllDisjointClasses ;\\n    owl:members ( <http://www.semanticweb.org/izabo/ontologies/2025/8/untitled-ontology-8#Birth> <http://www.semanticweb.org/izabo/ontologies/2025/8/untitled-ontology-8#Death> <http://www.semanticweb.org/izabo/ontologies/2025/8/untitled-ontology-8#Marriage> ) .\\n\\n'),\n",
       " Document(id='a5f98919-e0f4-4049-910f-85836c8e273d', metadata={}, page_content='@prefix owl: <http://www.w3.org/2002/07/owl#> .\\n@prefix rdf: <http://www.w3.org/1999/02/22-rdf-syntax-ns#> .\\n@prefix rdfs: <http://www.w3.org/2000/01/rdf-schema#> .\\n\\n<http://www.semanticweb.org/izabo/ontologies/2025/8/untitled-ontology-8#Death> a owl:Class ;\\n    rdfs:subClassOf <http://www.semanticweb.org/izabo/ontologies/2025/8/untitled-ontology-8#LifeEvent> .\\n\\n[] a owl:AllDisjointClasses ;\\n    owl:members ( <http://www.semanticweb.org/izabo/ontologies/2025/8/untitled-ontology-8#Birth> <http://www.semanticweb.org/izabo/ontologies/2025/8/untitled-ontology-8#Death> <http://www.semanticweb.org/izabo/ontologies/2025/8/untitled-ontology-8#Marriage> ) .\\n\\n'),\n",
       " Document(id='4911050d-ca6c-4532-9890-9a82430e8234', metadata={}, page_content='@prefix owl: <http://www.w3.org/2002/07/owl#> .\\n@prefix rdf: <http://www.w3.org/1999/02/22-rdf-syntax-ns#> .\\n@prefix rdfs: <http://www.w3.org/2000/01/rdf-schema#> .\\n\\n<http://www.semanticweb.org/izabo/ontologies/2025/8/untitled-ontology-8#Marriage> a owl:Class ;\\n    rdfs:subClassOf <http://www.semanticweb.org/izabo/ontologies/2025/8/untitled-ontology-8#LifeEvent> .\\n\\n[] a owl:AllDisjointClasses ;\\n    owl:members ( <http://www.semanticweb.org/izabo/ontologies/2025/8/untitled-ontology-8#Birth> <http://www.semanticweb.org/izabo/ontologies/2025/8/untitled-ontology-8#Death> <http://www.semanticweb.org/izabo/ontologies/2025/8/untitled-ontology-8#Marriage> ) .\\n\\n'),\n",
       " Document(id='0963c668-d918-4e90-a5d2-f081b7e671ae', metadata={}, page_content='@prefix owl: <http://www.w3.org/2002/07/owl#> .\\n@prefix rdf: <http://www.w3.org/1999/02/22-rdf-syntax-ns#> .\\n@prefix rdfs: <http://www.w3.org/2000/01/rdf-schema#> .\\n@prefix xsd: <http://www.w3.org/2001/XMLSchema#> .\\n\\n<http://www.semanticweb.org/izabo/ontologies/2025/8/untitled-ontology-8#Amira> a <http://www.semanticweb.org/izabo/ontologies/2025/8/untitled-ontology-8#Adult> .\\n\\n<http://www.semanticweb.org/izabo/ontologies/2025/8/untitled-ontology-8#John> a <http://www.semanticweb.org/izabo/ontologies/2025/8/untitled-ontology-8#Adult> .\\n\\n<http://www.semanticweb.org/izabo/ontologies/2025/8/untitled-ontology-8#Leo> a <http://www.semanticweb.org/izabo/ontologies/2025/8/untitled-ontology-8#Adult> .\\n\\n<http://www.semanticweb.org/izabo/ontologies/2025/8/untitled-ontology-8#hasChild> rdfs:domain <http://www.semanticweb.org/izabo/ontologies/2025/8/untitled-ontology-8#Adult> .\\n\\n<http://www.semanticweb.org/izabo/ontologies/2025/8/untitled-ontology-8#hasParent> rdfs:range <http://www.semanticweb.org/izabo/ontologies/2025/8/untitled-ontology-8#Adult> .\\n\\n<http://www.semanticweb.org/izabo/ontologies/2025/8/untitled-ontology-8#isMarriedTo> rdfs:domain [ a owl:Class ;\\n            owl:unionOf ( <http://www.semanticweb.org/izabo/ontologies/2025/8/untitled-ontology-8#Adult> <http://www.semanticweb.org/izabo/ontologies/2025/8/untitled-ontology-8#Elder> ) ] ;\\n    rdfs:range [ a owl:Class ;\\n            owl:unionOf ( <http://www.semanticweb.org/izabo/ontologies/2025/8/untitled-ontology-8#Adult> <http://www.semanticweb.org/izabo/ontologies/2025/8/untitled-ontology-8#Elder> ) ] .\\n\\n<http://www.semanticweb.org/izabo/ontologies/2025/8/untitled-ontology-8#Adult> a owl:Class ;\\n    rdfs:subClassOf [ a owl:Restriction ;\\n            owl:onProperty <http://www.semanticweb.org/izabo/ontologies/2025/8/untitled-ontology-8#worksAt> ;\\n            owl:someValuesFrom <http://www.semanticweb.org/izabo/ontologies/2025/8/untitled-ontology-8#Farm> ] ;\\n    owl:equivalentClass [ a owl:Class ;\\n            owl:intersectionOf ( <http://www.semanticweb.org/izabo/ontologies/2025/8/untitled-ontology-8#Person> [ a owl:Restriction ;\\n                        owl:onProperty <http://www.semanticweb.org/izabo/ontologies/2025/8/untitled-ontology-8#hasAge> ;\\n                        owl:someValuesFrom [ a rdfs:Datatype ;\\n                                owl:onDatatype xsd:integer ;\\n                                owl:withRestrictions ( [ xsd:minInclusive 18 ] ) ] ] ) ] .\\n\\n'),\n",
       " Document(id='b47c38ee-acc2-49c9-97a8-31b6dbfc18ea', metadata={}, page_content='@prefix owl: <http://www.w3.org/2002/07/owl#> .\\n@prefix rdfs: <http://www.w3.org/2000/01/rdf-schema#> .\\n\\n<http://www.semanticweb.org/izabo/ontologies/2025/8/untitled-ontology-8#Actor> a <http://www.semanticweb.org/izabo/ontologies/2025/8/untitled-ontology-8#CreativeWorker> .\\n\\n<http://www.semanticweb.org/izabo/ontologies/2025/8/untitled-ontology-8#Artist> a <http://www.semanticweb.org/izabo/ontologies/2025/8/untitled-ontology-8#CreativeWorker> .\\n\\n<http://www.semanticweb.org/izabo/ontologies/2025/8/untitled-ontology-8#Musician> a <http://www.semanticweb.org/izabo/ontologies/2025/8/untitled-ontology-8#CreativeWorker> .\\n\\n<http://www.semanticweb.org/izabo/ontologies/2025/8/untitled-ontology-8#Writer> a <http://www.semanticweb.org/izabo/ontologies/2025/8/untitled-ontology-8#CreativeWorker> .\\n\\n<http://www.semanticweb.org/izabo/ontologies/2025/8/untitled-ontology-8#CreativeWorker> a owl:Class ;\\n    rdfs:subClassOf <http://www.semanticweb.org/izabo/ontologies/2025/8/untitled-ontology-8#Occupation> .\\n\\n')]"
      ]
     },
     "execution_count": 67,
     "metadata": {},
     "output_type": "execute_result"
    }
   ],
   "source": [
    "retrieved_docs"
   ]
  },
  {
   "cell_type": "code",
   "execution_count": 61,
   "id": "2a0960aa",
   "metadata": {},
   "outputs": [
    {
     "data": {
      "text/plain": [
       "'@prefix owl: <http://www.w3.org/2002/07/owl#> .\\n@prefix rdf: <http://www.w3.org/1999/02/22-rdf-syntax-ns#> .\\n@prefix rdfs: <http://www.w3.org/2000/01/rdf-schema#> .\\n\\n<http://www.semanticweb.org/izabo/ontologies/2025/8/untitled-ontology-8#Birth> a owl:Class ;\\n    rdfs:subClassOf <http://www.semanticweb.org/izabo/ontologies/2025/8/untitled-ontology-8#LifeEvent> .\\n\\n[] a owl:AllDisjointClasses ;\\n    owl:members ( <http://www.semanticweb.org/izabo/ontologies/2025/8/untitled-ontology-8#Birth> <http://www.semanticweb.org/izabo/ontologies/2025/8/untitled-ontology-8#Death> <http://www.semanticweb.org/izabo/ontologies/2025/8/untitled-ontology-8#Marriage> ) .\\n\\n\\n\\n@prefix owl: <http://www.w3.org/2002/07/owl#> .\\n@prefix rdf: <http://www.w3.org/1999/02/22-rdf-syntax-ns#> .\\n@prefix rdfs: <http://www.w3.org/2000/01/rdf-schema#> .\\n\\n<http://www.semanticweb.org/izabo/ontologies/2025/8/untitled-ontology-8#Death> a owl:Class ;\\n    rdfs:subClassOf <http://www.semanticweb.org/izabo/ontologies/2025/8/untitled-ontology-8#LifeEvent> .\\n\\n[] a owl:AllDisjointClasses ;\\n    owl:members ( <http://www.semanticweb.org/izabo/ontologies/2025/8/untitled-ontology-8#Birth> <http://www.semanticweb.org/izabo/ontologies/2025/8/untitled-ontology-8#Death> <http://www.semanticweb.org/izabo/ontologies/2025/8/untitled-ontology-8#Marriage> ) .\\n\\n\\n\\n@prefix owl: <http://www.w3.org/2002/07/owl#> .\\n@prefix rdf: <http://www.w3.org/1999/02/22-rdf-syntax-ns#> .\\n@prefix rdfs: <http://www.w3.org/2000/01/rdf-schema#> .\\n\\n<http://www.semanticweb.org/izabo/ontologies/2025/8/untitled-ontology-8#Marriage> a owl:Class ;\\n    rdfs:subClassOf <http://www.semanticweb.org/izabo/ontologies/2025/8/untitled-ontology-8#LifeEvent> .\\n\\n[] a owl:AllDisjointClasses ;\\n    owl:members ( <http://www.semanticweb.org/izabo/ontologies/2025/8/untitled-ontology-8#Birth> <http://www.semanticweb.org/izabo/ontologies/2025/8/untitled-ontology-8#Death> <http://www.semanticweb.org/izabo/ontologies/2025/8/untitled-ontology-8#Marriage> ) .\\n\\n'"
      ]
     },
     "execution_count": 61,
     "metadata": {},
     "output_type": "execute_result"
    }
   ],
   "source": [
    "docs_content"
   ]
  },
  {
   "cell_type": "code",
   "execution_count": null,
   "id": "e766e6ba",
   "metadata": {},
   "outputs": [],
   "source": [
    "import re\n",
    "\n",
    "def scenario_splitter(text): ## right now just split every sentence into 2.\n",
    "    # Split the text into sentences using a regex that keeps punctuation\n",
    "    sentences = re.findall(r'[^.!?]+[.!?]', text)\n",
    "    # Strip extra spaces\n",
    "    sentences = [s.strip() for s in sentences if s.strip()]\n",
    "    # Group every two sentences together\n",
    "    pairs = [' '.join(sentences[i:i+2]) for i in range(0, len(sentences), 2)]\n",
    "    return pairs\n",
    "\n"
   ]
  },
  {
   "cell_type": "code",
   "execution_count": null,
   "id": "a9a91ea3",
   "metadata": {},
   "outputs": [],
   "source": [
    "def scenario_splitter_llm(text, llm):\n",
    "    system_prompt = ( ### deze hele prompt moet beter\n",
    "            \"You are an assistant that extracts logical or factual 'scenarios' \"\n",
    "            \"from a given story. A scenario is a self-contained statement or short passage \"\n",
    "            \"that can be individually checked for correctness or consistency.\\n\\n\"\n",
    "            \"Guidelines:\\n\"\n",
    "            \"- Each scenario should capture a single checkable fact, event, or claim.\\n\"\n",
    "            \"- Avoid redundancy — each scenario should be distinct.\\n\"\n",
    "            \"- Keep scenarios concise (one or two sentences max).\\n\"\n",
    "            \"- Preserve important details like names, places, or relationships.\\n\\n\"\n",
    "            \"Return the scenarios as a numbered list.\"\n",
    "        )\n",
    "\n",
    "    # Combine system and user input\n",
    "    prompt = f\"{system_prompt}\\n\\nStory:\\n{text}\\n\\nScenarios:\\n\"\n",
    "\n",
    "    # Query the LLM\n",
    "    response = llm.invoke(prompt)\n",
    "    if hasattr(response, \"content\"):  # LangChain AIMessage\n",
    "        output_text = response.content\n",
    "    elif isinstance(response, dict) and \"content\" in response:\n",
    "        output_text = response[\"content\"]\n",
    "    elif isinstance(response, str):\n",
    "        output_text = response\n",
    "    else:\n",
    "        raise TypeError(f\"Unexpected LLM response type: {type(response)}\")\n",
    "\n",
    "    # Extract list items using regex\n",
    "    import re\n",
    "    scenarios = re.findall(r'(?:\\d+\\.\\s*)(.+)', output_text)\n",
    "    scenarios = [s.strip() for s in scenarios if s.strip()]\n",
    "\n",
    "    # If the LLM doesnt number them, fallback to line splitting\n",
    "    if not scenarios:\n",
    "        scenarios = [line.strip(\"-• \\t\") for line in output_text.splitlines() if line.strip()]\n",
    "\n",
    "    return scenarios\n"
   ]
  },
  {
   "cell_type": "code",
   "execution_count": null,
   "id": "cd432620",
   "metadata": {},
   "outputs": [],
   "source": [
    "\n",
    "story = \"\"\"John is 15 years old and is on vacation with his wife Amira in Italy. Their daughter Anna can’t wait to visit the Eiffel Tower, but first they will go out to eat. John suggests they eat pizzas since Italy is famous for them, they will eat at restaurant Riccolo located in Florence.\n",
    "Since Anna has a vitamin C deficiency she will order a pizza that contains lots of vitamin C, so she will get the pizza Bianca. John will get the classic Margherita pizza and Amira orders a pepperoni pizza.\n",
    "They sit by the window of the small restaurant; the air filled with the smell of garlic and baking dough. Anna swings her legs impatiently under the table, still talking about the Eiffel Tower, while Amira flips through a guidebook about Florence.\n",
    "15 minutes later the farmer named Leo from the restaurant brings their pizzas and they eat, and Anna says to John how cool it is that the waiter is from France.\"\"\"\n"
   ]
  },
  {
   "cell_type": "code",
   "execution_count": 16,
   "id": "320d7db8",
   "metadata": {},
   "outputs": [],
   "source": [
    "def batch_query(scenarios, vector_store, custom_prompt, llm, k=5):\n",
    "    \"\"\"\n",
    "    Runs similarity search and LLM inference for each question in a list.\n",
    "\n",
    "    Parameters:\n",
    "        scenarios (list[str]): A list of scenario strings.\n",
    "        vector_store: Vector store object with a `similarity_search` method.\n",
    "        custom_prompt: Prompt template object with an `invoke` method.\n",
    "        llm: Language model object with an `invoke` method.\n",
    "        k (int): Number of documents to retrieve per question.\n",
    "\n",
    "    Returns:\n",
    "        list[dict]: A list of dictionaries containing 'question', 'context', and 'answer'.\n",
    "    \"\"\"\n",
    "    results = []\n",
    "\n",
    "    for scenario in scenarios:\n",
    "        # 1. Retrieve similar documents\n",
    "        retrieved_docs = vector_store.similarity_search(scenario, k=k)\n",
    "\n",
    "        # 2. Join retrieved documents into one context string\n",
    "        docs_content = \"\\n\\n\".join(doc.page_content for doc in retrieved_docs)\n",
    "\n",
    "        # 3. Render prompt\n",
    "        rendered_prompt = custom_prompt.invoke({\n",
    "            \"question\": scenario,\n",
    "            \"context\": docs_content\n",
    "        })\n",
    "\n",
    "        # 4. Get model answer\n",
    "        answer = llm.invoke(rendered_prompt)\n",
    "\n",
    "        # 5. Store result\n",
    "        results.append({\n",
    "            \"question\": scenario,\n",
    "            \"context\": docs_content,\n",
    "            \"answer\": answer\n",
    "        })\n",
    "\n",
    "    return results\n",
    "\n"
   ]
  },
  {
   "cell_type": "code",
   "execution_count": 17,
   "id": "d898bc04",
   "metadata": {},
   "outputs": [],
   "source": [
    "scenarios = scenario_splitter(story)\n",
    "results = batch_query(scenarios, vector_store, custom_prompt, llm, k=5)"
   ]
  },
  {
   "cell_type": "code",
   "execution_count": 29,
   "id": "48b54f72",
   "metadata": {},
   "outputs": [],
   "source": [
    "scenarios2 = scenario_splitter_llm(story, llm)"
   ]
  },
  {
   "cell_type": "code",
   "execution_count": 30,
   "id": "d7e1a602",
   "metadata": {},
   "outputs": [
    {
     "data": {
      "text/plain": [
       "['John is married to Amira.',\n",
       " 'Amira has a vitamin C deficiency.',\n",
       " 'Anna will order the Bianca pizza with lots of vitamin C for her deficiency at Riccolo restaurant in Florence, Italy on vacation with John and Amira.',\n",
       " 'Their daughter Anna cannot wait to visit the Eiffel Tower during their trip to Italy but first wants to eat a Bianca pizza due to her vitamin C needs.',\n",
       " 'John suggests they have Margherita or pepperoni at Riccolo restaurant, while Amira gets one with lots of Vitamin C for health reasons and Anna chooses based on the amount needed to address her deficiency but also considers wanting a traditional Italian pizza she likes best among them in their window seat.',\n",
       " \"John is 15 years old; he's vacationing with his wife Amira, who cannot hear due to wearing headphones while reading about Florence landmarks and history - unaware of Anna’s impatience as they sit by the restaurant window waiting for their pizzas from a local French farmer waiter named Leo.\",\n",
       " \"After 15 minutes, Luigi brings out John's Margherita Pizza, Amira gets her pepperoni-loaded pie while still immersed in Florence guidebooks and Anna has Bianca to address her vitamin C deficiency - all as they sit by the restaurant window filled with garlic aroma.\",\n",
       " \"Anna admires that their waiter Leo is French but doesn't realize he shares his nationality because of Amira’s focus on Florence guidebooks and John preoccupied, not yet acknowledging Anna or her comments about Eiffel Tower pizza preferences – all while waiting for a vitamin C rich Bianca Pizza at Riccolo restaurant in Italy.\",\n",
       " \"The provided scenarios highlight key elements from the story such as relationships between characters, their specific health needs (like Amira's focus on Italian food and Anna’s need for Vitamin C), locations of interest within Florence like ricco restaurant located near Eiffel Tower replica perhaps or at least in Italy where they are vacationing. They also include details about the setting while waiting to eat their pizzas, further reinforcing the narrative's context and atmosphere during this specific time.\"]"
      ]
     },
     "execution_count": 30,
     "metadata": {},
     "output_type": "execute_result"
    }
   ],
   "source": [
    "scenarios2"
   ]
  },
  {
   "cell_type": "code",
   "execution_count": null,
   "id": "2ed6c3da",
   "metadata": {},
   "outputs": [],
   "source": [
    "## to do: create a better ontology block maker.\n",
    "## to do: create better \"scenarios\" (s.t. the LLM can better be presented with the fact)\n",
    "## to do: reconstruct the story\n",
    "## Write one-shot examples\n",
    "## Try it with a better LLM\n",
    "\n"
   ]
  }
 ],
 "metadata": {
  "kernelspec": {
   "display_name": ".venv",
   "language": "python",
   "name": "python3"
  },
  "language_info": {
   "codemirror_mode": {
    "name": "ipython",
    "version": 3
   },
   "file_extension": ".py",
   "mimetype": "text/x-python",
   "name": "python",
   "nbconvert_exporter": "python",
   "pygments_lexer": "ipython3",
   "version": "3.11.5"
  }
 },
 "nbformat": 4,
 "nbformat_minor": 5
}
